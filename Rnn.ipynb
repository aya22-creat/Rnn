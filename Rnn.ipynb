{
 "cells": [
  {
   "cell_type": "code",
   "execution_count": null,
   "id": "ebd17473",
   "metadata": {},
   "outputs": [
    {
     "name": "stdout",
     "output_type": "stream",
     "text": [
      "Epoch 100 | Loss: 0.0930 | Prediction: club\n",
      "Epoch 200 | Loss: 0.0428 | Prediction: club\n",
      "Epoch 300 | Loss: 0.0276 | Prediction: club\n",
      "Epoch 400 | Loss: 0.0203 | Prediction: club\n",
      "Epoch 500 | Loss: 0.0160 | Prediction: club\n",
      "Epoch 600 | Loss: 0.0132 | Prediction: club\n",
      "Epoch 700 | Loss: 0.0113 | Prediction: club\n",
      "Epoch 800 | Loss: 0.0098 | Prediction: club\n",
      "Epoch 900 | Loss: 0.0087 | Prediction: club\n",
      "Epoch 1000 | Loss: 0.0078 | Prediction: club\n"
     ]
    }
   ],
   "source": [
    "import numpy as np\n",
    "\n",
    "words = [\"Liverpool\", \"is\", \"wonderful\", \"club\"]\n",
    "vocab = list(set(words))\n",
    "word_to_idx = {w: i for i, w in enumerate(vocab)}\n",
    "idx_to_word = {i: w for w, i in word_to_idx.items()}\n",
    "vocab_size = len(vocab)\n",
    "\n",
    "def one_hot(idx, size):\n",
    "    vec = np.zeros(size)\n",
    "    vec[idx] = 1\n",
    "    return vec\n",
    "\n",
    "X = [one_hot(word_to_idx[w], vocab_size) for w in [\"Liverpool\", \"is\", \"wonderful\"]]\n",
    "Y = word_to_idx[\"club\"]\n",
    "\n",
    "\n",
    "input_size = vocab_size\n",
    "hidden_size = 8\n",
    "output_size = vocab_size\n",
    "\n",
    "\n",
    "Wxh = np.random.randn(hidden_size, input_size) * 0.01\n",
    "Whh = np.random.randn(hidden_size, hidden_size) * 0.01\n",
    "Why = np.random.randn(output_size, hidden_size) * 0.01\n",
    "bh = np.zeros(hidden_size)\n",
    "by = np.zeros(output_size)\n",
    "\n",
    "\n",
    "def softmax(x):\n",
    "    exp_x = np.exp(x - np.max(x))\n",
    "    return exp_x / exp_x.sum()\n",
    "\n",
    "\n",
    "learning_rate = 0.1\n",
    "for epoch in range(1000):\n",
    "    h = np.zeros(hidden_size)\n",
    "    \n",
    "    # Forward\n",
    "    for x in X:\n",
    "        h = np.tanh(Wxh @ x + Whh @ h + bh)\n",
    "\n",
    "    y = Why @ h + by\n",
    "    probs = softmax(y)\n",
    "\n",
    "    loss = -np.log(probs[Y])\n",
    "\n",
    "    # Backward\n",
    "    dy = probs.copy()\n",
    "    dy[Y] -= 1\n",
    "\n",
    "    dWhy = np.outer(dy, h)\n",
    "    dby = dy\n",
    "\n",
    "   \n",
    "    Why -= learning_rate * dWhy\n",
    "    by -= learning_rate * dby\n",
    "\n",
    "    if (epoch + 1) % 100 == 0:\n",
    "        pred = idx_to_word[np.argmax(probs)]\n",
    "        print(f\"Epoch {epoch+1} | Loss: {loss:.4f} | Prediction: {pred}\")\n"
   ]
  },
  {
   "cell_type": "code",
   "execution_count": null,
   "id": "6233d17b",
   "metadata": {},
   "outputs": [],
   "source": []
  }
 ],
 "metadata": {
  "kernelspec": {
   "display_name": "Python 3",
   "language": "python",
   "name": "python3"
  },
  "language_info": {
   "codemirror_mode": {
    "name": "ipython",
    "version": 3
   },
   "file_extension": ".py",
   "mimetype": "text/x-python",
   "name": "python",
   "nbconvert_exporter": "python",
   "pygments_lexer": "ipython3",
   "version": "3.12.7"
  }
 },
 "nbformat": 4,
 "nbformat_minor": 5
}
